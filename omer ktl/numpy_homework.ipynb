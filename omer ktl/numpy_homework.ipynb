{
 "cells": [
  {
   "cell_type": "code",
   "execution_count": 3,
   "metadata": {},
   "outputs": [],
   "source": [
    "import numpy as np"
   ]
  },
  {
   "cell_type": "markdown",
   "metadata": {},
   "source": [
    "1-Numpy’da Vektor ve Matrisin farkini tek cumle ile ifade ediniz.\n",
    "\n",
    "Cevap : Vektorler 1 boyutludur. Matrisler ise birden cok boyutludurlar."
   ]
  },
  {
   "cell_type": "code",
   "execution_count": 3,
   "metadata": {},
   "outputs": [
    {
     "data": {
      "text/plain": [
       "array([0, 1, 2, 3, 4, 5, 6, 7, 8, 9])"
      ]
     },
     "execution_count": 3,
     "metadata": {},
     "output_type": "execute_result"
    }
   ],
   "source": [
    "#2- 10 elemanli bir listeden NumPy Array’i olusturunuz.\n",
    "\n",
    "np.arange(0,10)"
   ]
  },
  {
   "cell_type": "code",
   "execution_count": 2,
   "metadata": {},
   "outputs": [
    {
     "data": {
      "text/plain": [
       "array([[0, 0, 0, 0, 0, 0, 0, 0, 0, 0],\n",
       "       [0, 0, 0, 0, 0, 0, 0, 0, 0, 0],\n",
       "       [0, 0, 0, 0, 0, 0, 0, 0, 0, 0],\n",
       "       [0, 0, 0, 0, 0, 0, 0, 0, 0, 0],\n",
       "       [0, 0, 0, 0, 0, 0, 0, 0, 0, 0],\n",
       "       [0, 0, 0, 0, 0, 0, 0, 0, 0, 0],\n",
       "       [0, 0, 0, 0, 0, 0, 0, 0, 0, 0],\n",
       "       [0, 0, 0, 0, 0, 0, 0, 0, 0, 0],\n",
       "       [0, 0, 0, 0, 0, 0, 0, 0, 0, 0],\n",
       "       [0, 0, 0, 0, 0, 0, 0, 0, 0, 0]])"
      ]
     },
     "execution_count": 2,
     "metadata": {},
     "output_type": "execute_result"
    }
   ],
   "source": [
    "#3- Icerisinde ‘0’ lar olan, ve veri tipi integer olan 10X10’luk bir matris olusturunuz.\n",
    "\n",
    "np.zeros((10,10),dtype = int)"
   ]
  },
  {
   "cell_type": "code",
   "execution_count": 3,
   "metadata": {},
   "outputs": [
    {
     "data": {
      "text/plain": [
       "array([[1., 1., 1., 1., 1., 1., 1., 1., 1., 1.],\n",
       "       [1., 1., 1., 1., 1., 1., 1., 1., 1., 1.],\n",
       "       [1., 1., 1., 1., 1., 1., 1., 1., 1., 1.],\n",
       "       [1., 1., 1., 1., 1., 1., 1., 1., 1., 1.],\n",
       "       [1., 1., 1., 1., 1., 1., 1., 1., 1., 1.],\n",
       "       [1., 1., 1., 1., 1., 1., 1., 1., 1., 1.],\n",
       "       [1., 1., 1., 1., 1., 1., 1., 1., 1., 1.],\n",
       "       [1., 1., 1., 1., 1., 1., 1., 1., 1., 1.],\n",
       "       [1., 1., 1., 1., 1., 1., 1., 1., 1., 1.],\n",
       "       [1., 1., 1., 1., 1., 1., 1., 1., 1., 1.]])"
      ]
     },
     "execution_count": 3,
     "metadata": {},
     "output_type": "execute_result"
    }
   ],
   "source": [
    "#4- Icerisinde ‘1’ ler olan, veri tipi float olan 10X10’luk bir matris olusturunuz.\n",
    "\n",
    "np.ones((10,10),dtype=float)"
   ]
  },
  {
   "cell_type": "code",
   "execution_count": 4,
   "metadata": {},
   "outputs": [
    {
     "data": {
      "text/plain": [
       "array([[9, 9, 9, 9, 9, 9, 9, 9, 9, 9],\n",
       "       [9, 9, 9, 9, 9, 9, 9, 9, 9, 9],\n",
       "       [9, 9, 9, 9, 9, 9, 9, 9, 9, 9],\n",
       "       [9, 9, 9, 9, 9, 9, 9, 9, 9, 9],\n",
       "       [9, 9, 9, 9, 9, 9, 9, 9, 9, 9],\n",
       "       [9, 9, 9, 9, 9, 9, 9, 9, 9, 9],\n",
       "       [9, 9, 9, 9, 9, 9, 9, 9, 9, 9],\n",
       "       [9, 9, 9, 9, 9, 9, 9, 9, 9, 9],\n",
       "       [9, 9, 9, 9, 9, 9, 9, 9, 9, 9],\n",
       "       [9, 9, 9, 9, 9, 9, 9, 9, 9, 9]])"
      ]
     },
     "execution_count": 4,
     "metadata": {},
     "output_type": "execute_result"
    }
   ],
   "source": [
    "#5- Icerisinde ‘9’ lar olan, veri tipi integer olan 10X10’luk bir matris olusturunuz.\n",
    "\n",
    "np.full((10,10), 9, dtype=int)"
   ]
  },
  {
   "cell_type": "code",
   "execution_count": 5,
   "metadata": {},
   "outputs": [
    {
     "data": {
      "text/plain": [
       "array([ 5,  8, 11, 14, 17, 20, 23])"
      ]
     },
     "execution_count": 5,
     "metadata": {},
     "output_type": "execute_result"
    }
   ],
   "source": [
    "#6- 5 ile 25 arasinda, 3’er 3’er atlayan tek boyutlu bir Array olusturunuz.\n",
    "\n",
    "np.arange(5,25,3)"
   ]
  },
  {
   "cell_type": "code",
   "execution_count": 6,
   "metadata": {},
   "outputs": [
    {
     "data": {
      "text/plain": [
       "array([-1.        , -0.93103448, -0.86206897, -0.79310345, -0.72413793,\n",
       "       -0.65517241, -0.5862069 , -0.51724138, -0.44827586, -0.37931034,\n",
       "       -0.31034483, -0.24137931, -0.17241379, -0.10344828, -0.03448276,\n",
       "        0.03448276,  0.10344828,  0.17241379,  0.24137931,  0.31034483,\n",
       "        0.37931034,  0.44827586,  0.51724138,  0.5862069 ,  0.65517241,\n",
       "        0.72413793,  0.79310345,  0.86206897,  0.93103448,  1.        ])"
      ]
     },
     "execution_count": 6,
     "metadata": {},
     "output_type": "execute_result"
    }
   ],
   "source": [
    "#7- -1 ile 1 arasinda 30 adet Array olusturunuz.\n",
    "\n",
    "np.linspace(-1,1,30)"
   ]
  },
  {
   "cell_type": "code",
   "execution_count": 7,
   "metadata": {},
   "outputs": [
    {
     "data": {
      "text/plain": [
       "array([[ 0,  1,  2,  3,  4,  5],\n",
       "       [ 6,  7,  8,  9, 10, 11],\n",
       "       [12, 13, 14, 15, 16, 17],\n",
       "       [18, 19, 20, 21, 22, 23],\n",
       "       [24, 25, 26, 27, 28, 29]])"
      ]
     },
     "execution_count": 7,
     "metadata": {},
     "output_type": "execute_result"
    }
   ],
   "source": [
    "#8- 0 ile 30 arasinda 5x6’lik bir matris olusturun.\n",
    "\n",
    "np.arange(0,30).reshape((5,6))"
   ]
  },
  {
   "cell_type": "code",
   "execution_count": 8,
   "metadata": {},
   "outputs": [
    {
     "data": {
      "text/plain": [
       "array([[1., 0., 0., 0., 0., 0., 0., 0., 0., 0.],\n",
       "       [0., 1., 0., 0., 0., 0., 0., 0., 0., 0.],\n",
       "       [0., 0., 1., 0., 0., 0., 0., 0., 0., 0.],\n",
       "       [0., 0., 0., 1., 0., 0., 0., 0., 0., 0.],\n",
       "       [0., 0., 0., 0., 1., 0., 0., 0., 0., 0.],\n",
       "       [0., 0., 0., 0., 0., 1., 0., 0., 0., 0.],\n",
       "       [0., 0., 0., 0., 0., 0., 1., 0., 0., 0.],\n",
       "       [0., 0., 0., 0., 0., 0., 0., 1., 0., 0.],\n",
       "       [0., 0., 0., 0., 0., 0., 0., 0., 1., 0.],\n",
       "       [0., 0., 0., 0., 0., 0., 0., 0., 0., 1.]])"
      ]
     },
     "execution_count": 8,
     "metadata": {},
     "output_type": "execute_result"
    }
   ],
   "source": [
    "#9- Kosegenleri 1 olan 10x10’luk bir matris olusturunuz.\n",
    "\n",
    "a=np.eye(10,10)\n",
    "a\n"
   ]
  },
  {
   "cell_type": "code",
   "execution_count": 9,
   "metadata": {},
   "outputs": [
    {
     "name": "stdout",
     "output_type": "stream",
     "text": [
      "[[4 7 5 1 7 2 5 0 6 2]\n",
      " [1 9 3 9 1 0 5 1 2 3]\n",
      " [7 2 2 8 3 2 6 5 4 7]\n",
      " [1 4 7 2 6 3 0 5 6 3]\n",
      " [1 0 6 3 0 5 1 4 6 0]]\n",
      "Eleman Sayisi= 50\n",
      "Boyut Sayisi= 2\n",
      "Satir X Sutun = (5, 10)\n",
      "Data Tipi= int32\n"
     ]
    }
   ],
   "source": [
    "#10- 0 ile 10 arasinda 5x10’lik bir matris olusturun. (integer) ve bu matrisin; • eleman sayisini • \n",
    "# boyut bilgisini/sayisini • satir X sutun bilgisini • veri tipini numpy metodlariyla yazdiriniz.\n",
    "\n",
    "b=np.random.randint(10, size = (5,10),dtype=int)\n",
    "print(b)\n",
    "print(\"Eleman Sayisi=\",b.size)\n",
    "print(\"Boyut Sayisi=\",b.ndim)\n",
    "print(\"Satir X Sutun =\",b.shape)\n",
    "print(\"Data Tipi=\",b.dtype)"
   ]
  },
  {
   "cell_type": "code",
   "execution_count": 10,
   "metadata": {},
   "outputs": [
    {
     "name": "stdout",
     "output_type": "stream",
     "text": [
      "[[[2 1 7 9 8 7 2]\n",
      "  [1 4 4 2 5 0 5]\n",
      "  [5 7 4 3 5 7 0]]\n",
      "\n",
      " [[2 1 7 9 8 7 2]\n",
      "  [1 4 4 2 5 0 5]\n",
      "  [5 7 4 3 5 7 0]]\n",
      "\n",
      " [[2 1 7 9 8 7 2]\n",
      "  [1 4 4 2 5 0 5]\n",
      "  [5 7 4 3 5 7 0]]]\n"
     ]
    }
   ],
   "source": [
    "#11- 0 ile 10 arasindaki degerlerden olusan 3 adet 4x7’lik bir matris olusturunuz. (3 boyutlu bir matris olusturulacak)\n",
    "\n",
    "ax = np.random.randint(10, size=(3,7))\n",
    "three_d = np.array([ax,ax,ax])\n",
    "print(three_d)"
   ]
  },
  {
   "cell_type": "code",
   "execution_count": 11,
   "metadata": {},
   "outputs": [
    {
     "name": "stdout",
     "output_type": "stream",
     "text": [
      "[ 1  2  3  4  5  6 11 12 13 14 15 16]\n",
      "[[[ 1  2]\n",
      "  [ 3  4]]\n",
      "\n",
      " [[ 5  6]\n",
      "  [11 12]]\n",
      "\n",
      " [[13 14]\n",
      "  [15 16]]]\n"
     ]
    }
   ],
   "source": [
    "#12- Bir vektor olusturunuz ve daha sonrasinda ayni vektoru bir matrise ceviriniz. (boyut sayisini degistirin.)\n",
    "\n",
    "vector = np.array([1,2,3,4,5,6,11,12,13,14,15,16])\n",
    "rs = vector.reshape(3, 2,2)\n",
    "print(vector)\n",
    "print(rs)"
   ]
  },
  {
   "cell_type": "code",
   "execution_count": 12,
   "metadata": {},
   "outputs": [
    {
     "data": {
      "text/plain": [
       "array([ 1,  2,  3,  4,  5,  6,  7,  8,  9, 10, 11, 12])"
      ]
     },
     "execution_count": 12,
     "metadata": {},
     "output_type": "execute_result"
    }
   ],
   "source": [
    "#13- 4 tane ayri tek boyutlu array’i birlestirerek bir array olusturunuz.\n",
    "\n",
    "x= np.array([1,2,3])\n",
    "y= np.array([4,5,6])\n",
    "z= np.array([7,8,9])\n",
    "t= np.array([10,11,12])\n",
    "\n",
    "con=np.concatenate([x,y,z,t])\n",
    "con"
   ]
  },
  {
   "cell_type": "code",
   "execution_count": 13,
   "metadata": {},
   "outputs": [
    {
     "data": {
      "text/plain": [
       "array([[1, 2, 5, 6],\n",
       "       [3, 4, 7, 8]])"
      ]
     },
     "execution_count": 13,
     "metadata": {},
     "output_type": "execute_result"
    }
   ],
   "source": [
    "#14- 2 boyutlu bir vektor ve bir matris olusturun(ayri ayri), bu iki arrayi numpy metodlarini kullanarak sutun bazli birlestiriniz\n",
    "\n",
    "a = np.array([[1, 2], [3, 4]])\n",
    "b = np.array([[5, 6],[7,8]])\n",
    "np.concatenate((a, b), axis=1)"
   ]
  },
  {
   "cell_type": "code",
   "execution_count": null,
   "metadata": {},
   "outputs": [],
   "source": [
    "#15- Numpy’da “axis=1” ve “axis=0” arasinda ne fark vardir. Teorik olarak yaziniz?\n",
    "\n",
    "# \"axis=0\" matristeki satirlari temsil ediyor. Yukaridaki ornekte eger axis=0 kullansaydik matris satir bazinda birlestirilecekti.\n",
    "# \"axis=1\" matristeki sutunlari temsil ediyor.\n"
   ]
  },
  {
   "cell_type": "code",
   "execution_count": 14,
   "metadata": {},
   "outputs": [
    {
     "name": "stdout",
     "output_type": "stream",
     "text": [
      "axis=0 :\n",
      " [[ 1  2  3]\n",
      " [ 4  5  6]\n",
      " [ 7  8  9]\n",
      " [10 20 30]]\n",
      "axis=1 :\n",
      " [[ 1  2  3 10]\n",
      " [ 4  5  6 20]\n",
      " [ 7  8  9 30]]\n"
     ]
    }
   ],
   "source": [
    "#16- Farkli boyutlardaki arraylari satir ve sutun bazli ayri ayri birlestiriniz\n",
    "\n",
    "a=np.array([[1,2,3],[4,5,6],[7,8,9]])\n",
    "b=np.array([[10,20,30]])\n",
    "\n",
    "print(\"axis=0 :\\n\",np.concatenate((a, b), axis=0))\n",
    "print(\"axis=1 :\\n\",np.concatenate((a, b.T), axis=1))\n",
    "\n"
   ]
  },
  {
   "cell_type": "code",
   "execution_count": 15,
   "metadata": {},
   "outputs": [
    {
     "data": {
      "text/plain": [
       "[array([1, 2]), array([3, 4]), array([5, 6]), array([7, 8]), array([ 9, 10])]"
      ]
     },
     "execution_count": 15,
     "metadata": {},
     "output_type": "execute_result"
    }
   ],
   "source": [
    "#17- 10 elemanli bi liste olusturunuz ve bu listeyi Numpy metodlariyla bolerek(split) 5 ayri array olusturunuz.\n",
    "\n",
    "list = [1,2,3,4,5,6,7,8,9,10]\n",
    "list_n = np.array(list)\n",
    "np.split(list_n, 5)"
   ]
  },
  {
   "cell_type": "code",
   "execution_count": 16,
   "metadata": {},
   "outputs": [
    {
     "name": "stdout",
     "output_type": "stream",
     "text": [
      "0.index= 8\n",
      "1.index= 8\n",
      "2.index= 4\n",
      "3.index= 3\n",
      "4.index= 1\n"
     ]
    }
   ],
   "source": [
    "#18- Random bir array olusturunuz ve bu arrayi buyukten kucuge dogru siralayiniz.Ve bu siralamadan sonra hangi elemanin \n",
    "# hangi indexte oldugunu gosteren bir metod uygulayiniz.\n",
    "\n",
    "rand = np.random.randint(0,10, size=5)\n",
    "sorted_rand = np.sort(rand)[::-1]\n",
    "j=0\n",
    "for i in (sorted_rand):\n",
    "    print(f\"{j}.index=\",i)\n",
    "    j+=1\n",
    "\n",
    "\n",
    "\n",
    "\n"
   ]
  },
  {
   "cell_type": "code",
   "execution_count": 17,
   "metadata": {},
   "outputs": [
    {
     "name": "stdout",
     "output_type": "stream",
     "text": [
      "[ 8 16 18  0  9 15  8  2 15 18 12  4  9 15 17 18 19 17  4  9]\n"
     ]
    },
    {
     "data": {
      "text/plain": [
       "array([ 0, 15,  2])"
      ]
     },
     "execution_count": 17,
     "metadata": {},
     "output_type": "execute_result"
    }
   ],
   "source": [
    "#19- 20 elemanli random bir vektor olusturunuz. Bu vektorun 3. 5. ve 7. elemanlarina ulasin.\n",
    "\n",
    "r20=np.random.randint(0,20, size=20)\n",
    "print(r20)\n",
    "r20[3:9:2]\n"
   ]
  },
  {
   "cell_type": "code",
   "execution_count": 18,
   "metadata": {},
   "outputs": [
    {
     "name": "stdout",
     "output_type": "stream",
     "text": [
      "[ 7  9  4 15  7 18  6  6 11 11]\n",
      "[  7   9   4  15 100  18   6   6  11  11]\n"
     ]
    }
   ],
   "source": [
    "#20- 10 elemanli random bir vektor olusturunuz ve bu arrayin 4. elemanini farkli bir sayiyla degistiriniz.\n",
    "\n",
    "r10=np.random.randint(0,20, size=10)\n",
    "print(r10)\n",
    "r10[4]=100\n",
    "print(r10)\n"
   ]
  },
  {
   "cell_type": "code",
   "execution_count": null,
   "metadata": {},
   "outputs": [],
   "source": [
    "#21- “Diagonal Matrix” ve “Trace of Matrix” kavramlari hakkinda kucuk bir arastirma yapip bunlarin ne oldugunu belirten \n",
    "# kucuk bir aciklama yaziniz.\n",
    "\n",
    "\n"
   ]
  },
  {
   "cell_type": "code",
   "execution_count": 19,
   "metadata": {},
   "outputs": [
    {
     "name": "stdout",
     "output_type": "stream",
     "text": [
      "[[8 0 0 0 0]\n",
      " [0 2 0 0 0]\n",
      " [0 0 9 0 0]\n",
      " [0 0 0 6 0]\n",
      " [0 0 0 0 1]]\n",
      "0.index'in Diagonali : 8\n",
      "1.index'in Diagonali : 2\n",
      "2.index'in Diagonali : 9\n",
      "3.index'in Diagonali : 6\n",
      "4.index'in Diagonali : 1\n"
     ]
    }
   ],
   "source": [
    "# 22- 5x5’lik Diagonal bir matris olusturunuz ve Diagonaline denk gelen indexlere ulasiniz.(ayri ayri)\n",
    "l=5\n",
    "dia_5 = np.diag(np.random.randint(1,10,size=l))\n",
    "print(dia_5)\n",
    "\n",
    "for i in range(l):\n",
    "    print(f\"{i}.index'in Diagonali :\",dia_5[i,i])\n",
    "\n",
    "\n",
    "\n"
   ]
  },
  {
   "cell_type": "code",
   "execution_count": 20,
   "metadata": {},
   "outputs": [
    {
     "name": "stdout",
     "output_type": "stream",
     "text": [
      "[10 11 12 13 14 15 16 17 18 19]\n",
      "[13 14 15 16 17 18 19]\n"
     ]
    }
   ],
   "source": [
    "# 23- 10 ile 20 arasinda bir vektor olusturunuz. Ve 3. indexten son indexe kadar olan degerleri yazdiriniz.\n",
    "\n",
    "vek_23=np.arange(10,20)\n",
    "print(vek_23)\n",
    "\n",
    "print(vek_23[3:])"
   ]
  },
  {
   "cell_type": "markdown",
   "metadata": {},
   "source": [
    "24- 10X10 luk bir matris olusturunuz ve ; \n",
    "\n",
    "24a - 3.satir ve 5.sutuna ulasiniz. \n",
    "24b - 5.sutunun tum satirlarina ulasiniz. \n",
    "24c - Tum sutunlarin 2.satirlarina ulasiniz. \n",
    "24d - tum sutunlarin 2 ile 7 arasindaki satirlarina ulasiniz. \n",
    "24e - satir indexi 2’den 5’e ve sutun indexi 3 den 7’ye kadar olan degerlere ulasiniz. \n",
    "24f - satir indexi 5’den en sona ve sutun indexi en bastan 4’e kadar olan degerlere ulasiniz. \n",
    "24g - sutun indexi sadece 3, 6, 9 olan kolonlarin(sutunlarin), tum satirlarina ulasiniz. \n",
    "24h - 5.indexli satir ve 5.indexli sutuna denk gelen degeri, dogum yilinizla degistiriniz.\n",
    "NOT : elemanlara ulasirken; eleman-1 = index olarak alinmistir (2.eleman = 1.index)"
   ]
  },
  {
   "cell_type": "code",
   "execution_count": 21,
   "metadata": {},
   "outputs": [
    {
     "data": {
      "text/plain": [
       "array([[13, 10, 13, 14, 17, 17, 17, 18, 15, 15],\n",
       "       [17, 12, 16, 18, 13, 14, 19, 14, 19, 12],\n",
       "       [15, 18, 18, 11, 18, 19, 16, 19, 10, 15],\n",
       "       [18, 12, 13, 11, 17, 12, 15, 15, 16, 10],\n",
       "       [15, 15, 12, 19, 16, 14, 14, 14, 14, 13],\n",
       "       [19, 14, 11, 16, 17, 11, 15, 18, 12, 12],\n",
       "       [12, 16, 19, 14, 13, 11, 17, 17, 10, 12],\n",
       "       [17, 18, 15, 19, 10, 15, 14, 16, 18, 16],\n",
       "       [11, 11, 18, 18, 15, 11, 14, 12, 13, 13],\n",
       "       [19, 15, 14, 13, 17, 19, 19, 17, 19, 13]])"
      ]
     },
     "execution_count": 21,
     "metadata": {},
     "output_type": "execute_result"
    }
   ],
   "source": [
    "#24- 10X10 luk bir matris olusturunuz.\n",
    "\n",
    "matrix_24=np.random.randint(10,20,(10,10))\n",
    "matrix_24"
   ]
  },
  {
   "cell_type": "code",
   "execution_count": 22,
   "metadata": {},
   "outputs": [
    {
     "data": {
      "text/plain": [
       "18"
      ]
     },
     "execution_count": 22,
     "metadata": {},
     "output_type": "execute_result"
    }
   ],
   "source": [
    "#24a- 3.satir ve 5.sutuna ulasiniz. \n",
    "matrix_24[2,4]"
   ]
  },
  {
   "cell_type": "code",
   "execution_count": 23,
   "metadata": {},
   "outputs": [
    {
     "data": {
      "text/plain": [
       "array([17, 13, 18, 17, 16, 17, 13, 10, 15, 17])"
      ]
     },
     "execution_count": 23,
     "metadata": {},
     "output_type": "execute_result"
    }
   ],
   "source": [
    "#24b- 5.sutunun tum satirlarina ulasiniz.\n",
    "matrix_24[:,4]\n"
   ]
  },
  {
   "cell_type": "code",
   "execution_count": 24,
   "metadata": {},
   "outputs": [
    {
     "data": {
      "text/plain": [
       "array([17, 12, 16, 18, 13, 14, 19, 14, 19, 12])"
      ]
     },
     "execution_count": 24,
     "metadata": {},
     "output_type": "execute_result"
    }
   ],
   "source": [
    "#24c- Tum sutunlarin 2.satirlarina ulasiniz. \n",
    "matrix_24[1,:]"
   ]
  },
  {
   "cell_type": "code",
   "execution_count": 25,
   "metadata": {},
   "outputs": [
    {
     "data": {
      "text/plain": [
       "array([[17, 12, 16, 18, 13, 14, 19, 14, 19, 12],\n",
       "       [15, 18, 18, 11, 18, 19, 16, 19, 10, 15],\n",
       "       [18, 12, 13, 11, 17, 12, 15, 15, 16, 10],\n",
       "       [15, 15, 12, 19, 16, 14, 14, 14, 14, 13],\n",
       "       [19, 14, 11, 16, 17, 11, 15, 18, 12, 12],\n",
       "       [12, 16, 19, 14, 13, 11, 17, 17, 10, 12]])"
      ]
     },
     "execution_count": 25,
     "metadata": {},
     "output_type": "execute_result"
    }
   ],
   "source": [
    "#24d- tum sutunlarin 2 ile 7 arasindaki satirlarina ulasiniz. \n",
    "matrix_24[1:7,:]"
   ]
  },
  {
   "cell_type": "code",
   "execution_count": 26,
   "metadata": {},
   "outputs": [
    {
     "data": {
      "text/plain": [
       "array([[11, 18, 19, 16],\n",
       "       [11, 17, 12, 15],\n",
       "       [19, 16, 14, 14]])"
      ]
     },
     "execution_count": 26,
     "metadata": {},
     "output_type": "execute_result"
    }
   ],
   "source": [
    "#24e- satir indexi 2’den 5’e ve sutun indexi 3 den 7’ye kadar olan degerlere ulasiniz. \n",
    "matrix_24[2:5,3:7]"
   ]
  },
  {
   "cell_type": "code",
   "execution_count": 27,
   "metadata": {},
   "outputs": [
    {
     "data": {
      "text/plain": [
       "array([[19, 14, 11, 16],\n",
       "       [12, 16, 19, 14],\n",
       "       [17, 18, 15, 19],\n",
       "       [11, 11, 18, 18],\n",
       "       [19, 15, 14, 13]])"
      ]
     },
     "execution_count": 27,
     "metadata": {},
     "output_type": "execute_result"
    }
   ],
   "source": [
    "#24f- satir indexi 5’den en sona ve sutun indexi en bastan 4’e kadar olan degerlere ulasiniz.\n",
    "matrix_24[5:,:4]"
   ]
  },
  {
   "cell_type": "code",
   "execution_count": 28,
   "metadata": {},
   "outputs": [
    {
     "data": {
      "text/plain": [
       "array([[14, 17, 15],\n",
       "       [18, 19, 12],\n",
       "       [11, 16, 15],\n",
       "       [11, 15, 10],\n",
       "       [19, 14, 13],\n",
       "       [16, 15, 12],\n",
       "       [14, 17, 12],\n",
       "       [19, 14, 16],\n",
       "       [18, 14, 13],\n",
       "       [13, 19, 13]])"
      ]
     },
     "execution_count": 28,
     "metadata": {},
     "output_type": "execute_result"
    }
   ],
   "source": [
    "#24g- sutun indexi sadece 3, 6, 9 olan kolonlarin(sutunlarin), tum satirlarina ulasiniz.\n",
    "matrix_24[:,3:10:3]"
   ]
  },
  {
   "cell_type": "code",
   "execution_count": 29,
   "metadata": {},
   "outputs": [
    {
     "data": {
      "text/plain": [
       "array([[  13,   10,   13,   14,   17,   17,   17,   18,   15,   15],\n",
       "       [  17,   12,   16,   18,   13,   14,   19,   14,   19,   12],\n",
       "       [  15,   18,   18,   11,   18,   19,   16,   19,   10,   15],\n",
       "       [  18,   12,   13,   11,   17,   12,   15,   15,   16,   10],\n",
       "       [  15,   15,   12,   19,   16,   14,   14,   14,   14,   13],\n",
       "       [  19,   14,   11,   16,   17, 1987,   15,   18,   12,   12],\n",
       "       [  12,   16,   19,   14,   13,   11,   17,   17,   10,   12],\n",
       "       [  17,   18,   15,   19,   10,   15,   14,   16,   18,   16],\n",
       "       [  11,   11,   18,   18,   15,   11,   14,   12,   13,   13],\n",
       "       [  19,   15,   14,   13,   17,   19,   19,   17,   19,   13]])"
      ]
     },
     "execution_count": 29,
     "metadata": {},
     "output_type": "execute_result"
    }
   ],
   "source": [
    "#24h- 5.indexli satir ve 5.indexli sutuna denk gelen degeri, dogum yilinizla degistiriniz.\n",
    "\n",
    "matrix_24[5,5]=1987\n",
    "matrix_24"
   ]
  },
  {
   "cell_type": "markdown",
   "metadata": {},
   "source": [
    "25) 0’dan 50’ye kadar 5’er 5’er atlayarak giden bir array olusturunuz(tek boyutlu) ve numpy metodlariyla asagidaki islemleri uygulayin;\n",
    "\n",
    "25a - 20 den buyuk olan kac deger var.\n",
    "25b - 30’dan kucuk kac deger var \n",
    "25c - icerisinde 33 gecen kac deger var\n",
    "25d - olusturulan arrayin tum elemanlarini 5 ile carpin.\n",
    "25e - olusturulan arrayin tum elemanlarinin 2 ile bolumunden kalanlari yazdiriniz."
   ]
  },
  {
   "cell_type": "code",
   "execution_count": 30,
   "metadata": {},
   "outputs": [
    {
     "data": {
      "text/plain": [
       "array([ 0,  5, 10, 15, 20, 25, 30, 35, 40, 45, 50])"
      ]
     },
     "execution_count": 30,
     "metadata": {},
     "output_type": "execute_result"
    }
   ],
   "source": [
    "#25) 0’dan 50’ye kadar 5’er 5’er atlayarak giden bir array olusturunuz(tek boyutlu)\n",
    "array25=np.arange(0,51,5)\n",
    "array25"
   ]
  },
  {
   "cell_type": "code",
   "execution_count": 31,
   "metadata": {},
   "outputs": [
    {
     "data": {
      "text/plain": [
       "6"
      ]
     },
     "execution_count": 31,
     "metadata": {},
     "output_type": "execute_result"
    }
   ],
   "source": [
    "#25a - 20 den buyuk olan kac deger var.\n",
    "\n",
    "array25[array25>20].size"
   ]
  },
  {
   "cell_type": "code",
   "execution_count": 32,
   "metadata": {},
   "outputs": [
    {
     "data": {
      "text/plain": [
       "6"
      ]
     },
     "execution_count": 32,
     "metadata": {},
     "output_type": "execute_result"
    }
   ],
   "source": [
    "#25b - 30’dan kucuk kac deger var\n",
    "array25[array25<30].size\n"
   ]
  },
  {
   "cell_type": "code",
   "execution_count": 33,
   "metadata": {},
   "outputs": [
    {
     "data": {
      "text/plain": [
       "0"
      ]
     },
     "execution_count": 33,
     "metadata": {},
     "output_type": "execute_result"
    }
   ],
   "source": [
    "#25c - icerisinde 33 gecen kac deger var\n",
    "array25[array25==33].size"
   ]
  },
  {
   "cell_type": "code",
   "execution_count": 34,
   "metadata": {},
   "outputs": [
    {
     "data": {
      "text/plain": [
       "array([  0,  25,  50,  75, 100, 125, 150, 175, 200, 225, 250])"
      ]
     },
     "execution_count": 34,
     "metadata": {},
     "output_type": "execute_result"
    }
   ],
   "source": [
    "#25d - olusturulan arrayin tum elemanlarini 5 ile carpin\n",
    "array25*5"
   ]
  },
  {
   "cell_type": "code",
   "execution_count": 35,
   "metadata": {},
   "outputs": [
    {
     "data": {
      "text/plain": [
       "array([0, 1, 0, 1, 0, 1, 0, 1, 0, 1, 0], dtype=int32)"
      ]
     },
     "execution_count": 35,
     "metadata": {},
     "output_type": "execute_result"
    }
   ],
   "source": [
    "#25e - olusturulan arrayin tum elemanlarinin 2 ile bolumunden kalanlari yazdiriniz\n",
    "array25%2"
   ]
  },
  {
   "cell_type": "markdown",
   "metadata": {},
   "source": [
    "26-) 0 ile 1 arasinda 50 elamanli bir array olusturunuz ve; \n",
    "• orlamasini aliniz. \n",
    "• standart sapmasini aliniz. \n",
    "• varyansini aliniz. \n",
    "• median’ini aliniz. \n",
    "• en kucuk degeri bulunuz. \n",
    "• en buyuk degeri bulunuz. "
   ]
  },
  {
   "cell_type": "code",
   "execution_count": 36,
   "metadata": {},
   "outputs": [
    {
     "data": {
      "text/plain": [
       "array([0.        , 0.02040816, 0.04081633, 0.06122449, 0.08163265,\n",
       "       0.10204082, 0.12244898, 0.14285714, 0.16326531, 0.18367347,\n",
       "       0.20408163, 0.2244898 , 0.24489796, 0.26530612, 0.28571429,\n",
       "       0.30612245, 0.32653061, 0.34693878, 0.36734694, 0.3877551 ,\n",
       "       0.40816327, 0.42857143, 0.44897959, 0.46938776, 0.48979592,\n",
       "       0.51020408, 0.53061224, 0.55102041, 0.57142857, 0.59183673,\n",
       "       0.6122449 , 0.63265306, 0.65306122, 0.67346939, 0.69387755,\n",
       "       0.71428571, 0.73469388, 0.75510204, 0.7755102 , 0.79591837,\n",
       "       0.81632653, 0.83673469, 0.85714286, 0.87755102, 0.89795918,\n",
       "       0.91836735, 0.93877551, 0.95918367, 0.97959184, 1.        ])"
      ]
     },
     "execution_count": 36,
     "metadata": {},
     "output_type": "execute_result"
    }
   ],
   "source": [
    "# 0 ile 1 arasinda 50 elamanli bir array olusturunuz\n",
    "ar26 = np.linspace(0,1,50)\n",
    "ar26"
   ]
  },
  {
   "cell_type": "code",
   "execution_count": 37,
   "metadata": {},
   "outputs": [
    {
     "name": "stdout",
     "output_type": "stream",
     "text": [
      "Ortalamasi: 0.5\n",
      "Standart Sapmasi: 0.2945075446869757\n",
      "Varyansi: 0.086734693877551\n",
      "Median : 0.5\n",
      "Minimum : 0.0\n",
      "Maksimum : 1.0\n"
     ]
    }
   ],
   "source": [
    "# • orlamasini aliniz.\n",
    "print(\"Ortalamasi:\",np.mean(ar26)) \n",
    "# • standart sapmasini aliniz. \n",
    "print(\"Standart Sapmasi:\",np.std(ar26))\n",
    "# • varyansini aliniz. \n",
    "print(\"Varyansi:\",np.var(ar26))\n",
    "# • median’ini aliniz. \n",
    "print(\"Median :\",np.median(ar26))\n",
    "# • en kucuk degeri bulunuz. \n",
    "print(\"Minimum :\",np.min(ar26))\n",
    "# • en buyuk degeri bulunuz. \n",
    "print(\"Maksimum :\",np.max(ar26))\n",
    "\n"
   ]
  },
  {
   "cell_type": "markdown",
   "metadata": {},
   "source": [
    "** Master odev ; Bir dongu icerisinde random olacak sekilde iki tane 20x20’luk matris uretin ve bu matrislerin farklarini alin. Ve fark matrisinin diagonali, -0.1 ile 0.1 arasinda olana kadar bu islemi tekrarlayin. Istenilen matris bulundugunda program dursun ve toplam kac dongunun kuruldugunu, ne kadar sure icinde buldugunu ve istenilen matrisi print ile birlikte ekrana yazdiriniz... Tavsiye: 20 x 20 luk matrisin bulunmasi saatler surebilir. Bu yuzden algoritmanizin dogrulugunu test etmek icin once 4x4, 5x5 gibi kucuk matrislerde deneyebilirsiniz. Ve matris sayisisini arttirarak en son 20x20 u deneyebilirsiniz."
   ]
  },
  {
   "cell_type": "code",
   "execution_count": null,
   "metadata": {},
   "outputs": [],
   "source": [
    "import time\n",
    "import numpy as np\n",
    "\n",
    "it_num=0\n",
    "start=time.time()\n",
    "\n",
    "while True:\n",
    "\n",
    "    cont=True\n",
    "    m1=np.random.rand(5,5)\n",
    "    m2=np.random.rand(5,5)\n",
    "    di_m=np.diag(m1-m2)\n",
    "    it_num+=1\n",
    "\n",
    "    for i in di_m:\n",
    "        if i < -0.1 or i > 0.1:\n",
    "            cont=False\n",
    "            break\n",
    "\n",
    "    if cont==True: \n",
    "        break\n",
    "\n",
    "finish=time.time()\n",
    "\n",
    "print(\"Total Time :\",finish-start,\"sec\")\n",
    "print(\"Total Iteration :\",it_num)\n",
    "print(\"Wanted Matrix :\\n\",m1-m2)"
   ]
  }
 ],
 "metadata": {
  "interpreter": {
   "hash": "cf92aa13fedf815d5c8dd192b8d835913fde3e8bc926b2a0ad6cc74ef2ba3ca2"
  },
  "kernelspec": {
   "display_name": "Python 3.9.7 64-bit",
   "language": "python",
   "name": "python3"
  },
  "language_info": {
   "codemirror_mode": {
    "name": "ipython",
    "version": 3
   },
   "file_extension": ".py",
   "mimetype": "text/x-python",
   "name": "python",
   "nbconvert_exporter": "python",
   "pygments_lexer": "ipython3",
   "version": "3.9.7"
  },
  "orig_nbformat": 4
 },
 "nbformat": 4,
 "nbformat_minor": 2
}
